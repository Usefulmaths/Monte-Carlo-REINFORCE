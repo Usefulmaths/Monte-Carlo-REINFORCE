{
 "cells": [
  {
   "cell_type": "markdown",
   "metadata": {},
   "source": [
    "# Learning CartPole with a Monte-Carlo Reinforce Algorithm!\n",
    "This notebook will tackle the game of CartPole using a policy gradient method known as Monte-Carlo Reinforce! The CartPole environment is readily available through OpenAI's gym module.\n",
    "\n",
    "\n",
    "## Policy Gradient\n",
    "The first approach will be the policy-gradient method. The main idea of this method is to use a function approximator to directly learn an optimal policy i.e. the mapping from a state to an action. \n",
    "\n",
    "In this case, I will be using a shallow neural network as the function approximator for the policy and the weights will be optimised in such a way to maximise an objective function related to the performance of the agent in the CartPole environment. Specifically, the objective function will be the sum of the discounted rewards over every state in the episode. \n",
    "\n",
    "$$J(\\theta) = \\mathbb{E}_\\pi \\bigg[\\sum_{t=1}^{T-1} R(s_t, a_t)\\bigg] = \\mathbb{E}_\\pi \\bigg[ \\sum_{t=1}^{T-1} r_t + \\gamma R(s_{t+1}, a_{t+1}) \\bigg] = \\sum_{a\\in A}\\sum_{t=1}^{T-1}\\pi_\\theta(a_t | s_t) (r_t + \\gamma R(s_{t+1}, a_{t+1})) $$\n",
    "\n",
    "where $r_t$ is the immediate reward of a state at time t, $\\gamma$ is the discount factor, $\\pi_\\theta$ is the policy parametrised by $\\theta$, and R(s_t, a_t) is the discount rewards at time step t.\n",
    "\n",
    "The neural network parameters will be updated via a gradient ascent method, and therefore we will need to calculate the gradient of the objective with respect to the parameters, $\\theta$, of the network, $\\nabla_\\theta J(\\theta)$. \n",
    "\n",
    "$$\\nabla_\\theta J(\\theta) = \\nabla_\\theta (\\sum_{a\\in A}\\sum_{t=1}^{T-1} \\pi_\\theta(a_t|s_t) (r_t + \\gamma R(s_{t+1}, a_{t+1}))) = \\sum_{a\\in A}\\sum_{t=1}^{T-1} \\nabla_\\theta\\pi_\\theta(a_t | s_t) (r_t + \\gamma R(s_{t+1}, a_{t+1}))$$\n",
    "\n",
    "Differentiating a probability distribution can be hard, unless we log it. Therefore, we will use the log-trick to transform the problem. \n",
    "\n",
    "Log trick:\n",
    "\n",
    "$$\\nabla_\\theta\\pi_\\theta = \\pi_\\theta \\nabla_\\theta \\log(\\pi_\\theta) $$\n",
    "\n",
    "Substituting this into $\\nabla_\\theta J(\\theta)$ we get:\n",
    "\n",
    "$$\\nabla_\\theta J(\\theta) = \\sum_{a\\in A}\\sum_{t=1}^{T-1} \\pi_\\theta (a_t | s_t) \\nabla_\\theta \\log(\\pi_\\theta(a_t | s_t)) (r_t + \\gamma R(s_{t+1}, a_{t+1}))$$\n",
    "\n",
    "$$\\nabla_\\theta J(\\theta) = \\mathbb{E}_{\\pi_\\theta} \\bigg[\\sum_{t=1}^{T-1} \\nabla_\\theta\\log(\\pi_\\theta(a_t | s_t))  (r_t + \\gamma R(s_{t+1}, a_{t+1}))\\bigg]$$\n",
    "\n",
    "Therefore, after every episode we will make a gradient descent update of the weights using the following gradient: \n",
    "\n",
    "$$\\nabla_\\theta J(\\theta) = \\sum_{t=1}^{T-1} \\nabla_\\theta\\log(\\pi_\\theta(a_t | s_t))  (r_t + \\gamma R(s_{t+1}, a_{t+1}))$$\n",
    "\n",
    "\n"
   ]
  },
  {
   "cell_type": "markdown",
   "metadata": {},
   "source": [
    "### Import necessary modules"
   ]
  },
  {
   "cell_type": "code",
   "execution_count": 1,
   "metadata": {},
   "outputs": [],
   "source": [
    "import numpy as np\n",
    "import matplotlib.pyplot as plt\n",
    "import gym\n",
    "import torch\n",
    "import torch.nn as nn\n",
    "import torch.optim as optim\n",
    "from policy_gradient import PolicyNetwork, PGAgent"
   ]
  },
  {
   "cell_type": "markdown",
   "metadata": {},
   "source": [
    "### Instantiate the environment of CartPole & Agent Parameters"
   ]
  },
  {
   "cell_type": "code",
   "execution_count": 2,
   "metadata": {},
   "outputs": [
    {
     "name": "stdout",
     "output_type": "stream",
     "text": [
      "\u001b[33mWARN: gym.spaces.Box autodetected dtype as <class 'numpy.float32'>. Please provide explicit dtype.\u001b[0m\n"
     ]
    }
   ],
   "source": [
    "env = gym.make(\"CartPole-v0\")\n",
    "\n",
    "state_space = env.observation_space\n",
    "action_space = env.action_space    \n",
    "episodes = 1000\n",
    "\n",
    "hidden_size = 16\n",
    "discount = 0.99"
   ]
  },
  {
   "cell_type": "markdown",
   "metadata": {},
   "source": [
    "### Run experiments training the agent"
   ]
  },
  {
   "cell_type": "code",
   "execution_count": 3,
   "metadata": {},
   "outputs": [
    {
     "name": "stderr",
     "output_type": "stream",
     "text": [
      "/usr/local/lib/python3.7/site-packages/torch/nn/modules/container.py:91: UserWarning: Implicit dimension choice for softmax has been deprecated. Change the call to include dim=X as an argument.\n",
      "  input = module(input)\n"
     ]
    },
    {
     "name": "stdout",
     "output_type": "stream",
     "text": [
      "Episode: 0 -> Loss: -0.4577, Reward: 11.0000\n",
      "Episode: 20 -> Loss: -1.3354, Reward: 46.0000\n",
      "Episode: 40 -> Loss: 3.8633, Reward: 100.0000\n",
      "Episode: 60 -> Loss: 3.3356, Reward: 97.0000\n",
      "Episode: 80 -> Loss: -8.7920, Reward: 200.0000\n",
      "Episode: 100 -> Loss: -1.2606, Reward: 114.0000\n",
      "Episode: 120 -> Loss: -1.4368, Reward: 200.0000\n",
      "Episode: 140 -> Loss: 2.4573, Reward: 200.0000\n",
      "Episode: 160 -> Loss: -1.9730, Reward: 160.0000\n",
      "Episode: 180 -> Loss: 0.5132, Reward: 200.0000\n",
      "Episode: 200 -> Loss: 6.2058, Reward: 200.0000\n",
      "Episode: 220 -> Loss: 2.2149, Reward: 161.0000\n",
      "Episode: 240 -> Loss: -2.6421, Reward: 200.0000\n",
      "Episode: 260 -> Loss: -0.3999, Reward: 200.0000\n",
      "Episode: 280 -> Loss: -3.2958, Reward: 200.0000\n",
      "Episode: 300 -> Loss: 1.8253, Reward: 200.0000\n",
      "Episode: 320 -> Loss: -4.4582, Reward: 200.0000\n",
      "Episode: 340 -> Loss: -4.3634, Reward: 200.0000\n",
      "Episode: 360 -> Loss: 2.5305, Reward: 200.0000\n",
      "Episode: 380 -> Loss: 3.4603, Reward: 200.0000\n",
      "Episode: 400 -> Loss: 1.1417, Reward: 129.0000\n",
      "Episode: 420 -> Loss: 0.9611, Reward: 73.0000\n",
      "Episode: 440 -> Loss: 7.5490, Reward: 200.0000\n",
      "Episode: 460 -> Loss: -3.1034, Reward: 200.0000\n",
      "Episode: 480 -> Loss: -2.0545, Reward: 200.0000\n",
      "Episode: 500 -> Loss: -2.2265, Reward: 200.0000\n",
      "Episode: 520 -> Loss: -4.1616, Reward: 200.0000\n",
      "Episode: 540 -> Loss: 4.0289, Reward: 200.0000\n",
      "Episode: 560 -> Loss: -13.6672, Reward: 155.0000\n",
      "Episode: 580 -> Loss: -3.9118, Reward: 116.0000\n",
      "Episode: 600 -> Loss: -1.5715, Reward: 119.0000\n",
      "Episode: 620 -> Loss: -4.4832, Reward: 142.0000\n",
      "Episode: 640 -> Loss: -5.9232, Reward: 193.0000\n",
      "Episode: 660 -> Loss: -4.8585, Reward: 193.0000\n",
      "Episode: 680 -> Loss: -3.1240, Reward: 143.0000\n",
      "Episode: 700 -> Loss: -13.5213, Reward: 146.0000\n",
      "Episode: 720 -> Loss: -0.9129, Reward: 164.0000\n",
      "Episode: 740 -> Loss: -5.8679, Reward: 194.0000\n",
      "Episode: 760 -> Loss: -10.0992, Reward: 173.0000\n",
      "Episode: 780 -> Loss: 0.2342, Reward: 177.0000\n",
      "Episode: 800 -> Loss: -11.3816, Reward: 200.0000\n",
      "Episode: 820 -> Loss: 1.6525, Reward: 151.0000\n",
      "Episode: 840 -> Loss: -1.8470, Reward: 177.0000\n",
      "Episode: 860 -> Loss: 0.2966, Reward: 168.0000\n",
      "Episode: 880 -> Loss: -6.7932, Reward: 176.0000\n",
      "Episode: 900 -> Loss: -8.1355, Reward: 200.0000\n",
      "Episode: 920 -> Loss: 6.9938, Reward: 200.0000\n",
      "Episode: 940 -> Loss: -4.6102, Reward: 200.0000\n",
      "Episode: 960 -> Loss: -2.5802, Reward: 200.0000\n",
      "Episode: 980 -> Loss: -4.7938, Reward: 200.0000\n"
     ]
    }
   ],
   "source": [
    "number_of_runs = 10\n",
    "run_rewards = []\n",
    "\n",
    "for run in range(number_of_runs):\n",
    "    policy_network = PolicyNetwork(state_space, action_space, hidden_size).double()\n",
    "    agent = PGAgent(policy_network, discount)\n",
    "\n",
    "    optimiser = optim.RMSprop(policy_network.parameters())\n",
    "\n",
    "    episode_rewards = []\n",
    "    for episode in range(episodes):\n",
    "\n",
    "        state = torch.from_numpy(env.reset())\n",
    "        agent.reset_policy()\n",
    "\n",
    "        total_reward = 0\n",
    "        done = False\n",
    "        while not done:\n",
    "            action = agent.select_action(state)\n",
    "            state, reward, done, _ = env.step(action.data.numpy())\n",
    "            total_reward += reward\n",
    "\n",
    "            state = torch.tensor(state)\n",
    "            reward = torch.tensor(reward)\n",
    "            \n",
    "            agent.policy_reward.append(reward)\n",
    "\n",
    "        loss, _ = agent.update_policy(optimiser)\n",
    "\n",
    "        episode_rewards.append(total_reward)\n",
    "\n",
    "        if episode % 20 == 0 and run == 0:\n",
    "            print(\"Episode: %d -> Loss: %.4f, Reward: %.4f\" % (episode, loss, total_reward))\n",
    "\n",
    "    run_rewards.append(episode_rewards)"
   ]
  },
  {
   "cell_type": "markdown",
   "metadata": {},
   "source": [
    "### Plot the moving average of the final score of each episode"
   ]
  },
  {
   "cell_type": "code",
   "execution_count": 4,
   "metadata": {},
   "outputs": [
    {
     "data": {
      "image/png": "[encoded data removed]",
      "text/plain": [
       "<Figure size 432x288 with 1 Axes>"
      ]
     },
     "metadata": {},
     "output_type": "display_data"
    }
   ],
   "source": [
    "%matplotlib inline\n",
    "def moving_average(a, n=20) :\n",
    "    ret = np.cumsum(a, dtype=float)\n",
    "    ret[n:] = ret[n:] - ret[:-n]\n",
    "    return ret[n - 1:] / n\n",
    "\n",
    "import matplotlib.pyplot as plt\n",
    "\n",
    "means = np.mean([moving_average(rewards) for rewards in run_rewards], axis=0)\n",
    "stds = np.std([moving_average(rewards) for rewards in run_rewards], axis=0)\n",
    "\n",
    "plt.plot(range(len(means)), means, color='red')\n",
    "\n",
    "plt.fill_between(range(len(means)), means, means + stds, color='blue', alpha=.25)\n",
    "plt.fill_between(range(len(means)), means, means - stds, color='blue', alpha=.25)\n",
    "\n",
    "plt.show()"
   ]
  }
 ],
 "metadata": {
  "kernelspec": {
   "display_name": "Python 3",
   "language": "python",
   "name": "python3"
  },
  "language_info": {
   "codemirror_mode": {
    "name": "ipython",
    "version": 3
   },
   "file_extension": ".py",
   "mimetype": "text/x-python",
   "name": "python",
   "nbconvert_exporter": "python",
   "pygments_lexer": "ipython3",
   "version": "3.7.0"
  }
 },
 "nbformat": 4,
 "nbformat_minor": 2
}
